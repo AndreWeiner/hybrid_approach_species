{
 "cells": [
  {
   "cell_type": "markdown",
   "metadata": {},
   "source": [
    "# Read, clean, merge, and write PLIC facets\n",
    "\n",
    "The Basilisk simulations write PLIC facecets to the folder *plic/* of each simulation. The PLIC points are written after **10** iterations. Each process stores the points in a separate file. The files are named as\n",
    "\n",
    "points_**iteration**_n**process**.txt\n",
    "\n",
    "For example, the file of process 8 after 120 iterations is called\n",
    "\n",
    "points_**000120**_n**008**.txt\n",
    "\n",
    "Each file contains the all points in Cartesian coordinates. The points belonging to one PLIC facet are separated by one empty line. In the following example, the first facet consists of **three** and the second of **four** vertices:\n",
    "```\n",
    "# the order is px / py / pz\n",
    "-0.472504 3.39844 -0.0585938 # first point of facet one\n",
    "-0.46875 3.38866 -0.0585938\n",
    "-0.46875 3.39844 -0.0823362\n",
    "\n",
    "-0.474992 3.39844 -0.0292969 # first point of facet two\n",
    "-0.46875 3.38206 -0.0292969\n",
    "-0.46875 3.38931 -0.0585938\n",
    "-0.47223 3.39844 -0.0585938\n",
    "...\n",
    "```\n",
    "In two-dimensional data sets the entry **pz** is missing. For 2D cases, pass *shape_2D=True* as argument to the *process_shape* function"
   ]
  },
  {
   "cell_type": "code",
   "execution_count": 1,
   "metadata": {},
   "outputs": [
    {
     "name": "stdout",
     "output_type": "stream",
     "text": [
      "0 wa18_l16\n",
      "1 scap_l15\n",
      "2 scap_l16\n"
     ]
    }
   ],
   "source": [
    "# paths to define from where to read and where to write the processed data\n",
    "source_base = \"../data\"\n",
    "target_base = \"../data\"\n",
    "# the processed data will be stored in the newly created folder plic_clean\n",
    "plic_source = \"plic\"\n",
    "plic_target = \"plic_clean\"\n",
    "\n",
    "#cases = ([\"dell_l{:02d}\".format(level) for level in [15, 16, 17]] +\n",
    "#         [\"wa18_l{:02d}\".format(level) for level in [15, 16]] +\n",
    "#         [\"scap_l{:02d}\".format(level) for level in [15, 16]])\n",
    "cases = ([\"wa18_l{:02d}\".format(level) for level in [16]] +\n",
    "         [\"scap_l{:02d}\".format(level) for level in [15, 16]])\n",
    "\n",
    "for i, case in enumerate(cases):\n",
    "    print(i, case)"
   ]
  },
  {
   "cell_type": "code",
   "execution_count": 2,
   "metadata": {},
   "outputs": [],
   "source": [
    "import glob\n",
    "import pandas as pd\n",
    "import numpy as np\n",
    "    \n",
    "\n",
    "def assemble_shape(path, iteration, shape_2D=False):\n",
    "    '''Read PLIC intersections points from disk.\n",
    "       The function reads all avaialable processor files und concatenates them.\n",
    "        \n",
    "    Parameters\n",
    "    ----------\n",
    "    path - string: path to the file location\n",
    "    iteration - integer: iteration to load\n",
    "    \n",
    "    Returns\n",
    "    -------\n",
    "    facets - DataFrame: DataFrame containing the x, y, z coordintes and\n",
    "             the number of the facet to which a pints belongs\n",
    "             \n",
    "    '''\n",
    "    base_name = path + \"/points_{:06d}_n\".format(iteration)\n",
    "    files = sorted(glob.glob(base_name + \"*\"))\n",
    "    points = []\n",
    "    if shape_2D:\n",
    "        columns = [\"px\", \"py\"]\n",
    "    else:\n",
    "        columns = [\"px\", \"py\", \"pz\"]\n",
    "    for file in files:\n",
    "        points.append(pd.read_csv(file, sep=\" \", names=columns, engine='c', dtype=np.float32))\n",
    "    all_points = pd.concat(points)\n",
    "    all_points.dropna(inplace=True)\n",
    "    return all_points.reset_index(drop=True)\n",
    "\n",
    "\n",
    "def get_iterations(path):\n",
    "    ''' Find all iterations based on the file names.\n",
    "    \n",
    "    Parameters\n",
    "    ----------\n",
    "    path - string : where to search for files\n",
    "    \n",
    "    Returns\n",
    "    -------\n",
    "    iterations - array-like : set of all iterations\n",
    "    \n",
    "    '''\n",
    "    file_paths = glob.glob(path + \"/*_n000.txt\")\n",
    "    iterations = sorted([int(path.split(\"/\")[-1].split(\"_\")[1]) for path in file_paths])\n",
    "    return iterations\n",
    "\n",
    "\n",
    "def process_shape(source, target, iteration, shape_2D):\n",
    "    '''Read, assemble, and write PLIC data.\n",
    "    '''\n",
    "    data = assemble_shape(source, iteration, shape_2D)\n",
    "    file_name = \"plic_{:06d}.pkl\".format(iteration)\n",
    "    data.to_pickle(target + \"/\" + file_name)"
   ]
  },
  {
   "cell_type": "code",
   "execution_count": 3,
   "metadata": {},
   "outputs": [
    {
     "name": "stdout",
     "output_type": "stream",
     "text": [
      "Processing simulation folder wa18_l16\n"
     ]
    },
    {
     "data": {
      "application/vnd.jupyter.widget-view+json": {
       "model_id": "2866324995f24c4fa1f4bc5c29894117",
       "version_major": 2,
       "version_minor": 0
      },
      "text/plain": [
       "HBox(children=(IntProgress(value=0, max=242130), HTML(value='')))"
      ]
     },
     "metadata": {},
     "output_type": "display_data"
    },
    {
     "name": "stdout",
     "output_type": "stream",
     "text": [
      "\n",
      "Processing simulation folder scap_l15\n"
     ]
    },
    {
     "data": {
      "application/vnd.jupyter.widget-view+json": {
       "model_id": "781828b7f2934fb29c51a252cf985a37",
       "version_major": 2,
       "version_minor": 0
      },
      "text/plain": [
       "HBox(children=(IntProgress(value=0, max=5291), HTML(value='')))"
      ]
     },
     "metadata": {},
     "output_type": "display_data"
    },
    {
     "name": "stdout",
     "output_type": "stream",
     "text": [
      "\n",
      "Processing simulation folder scap_l16\n"
     ]
    },
    {
     "data": {
      "application/vnd.jupyter.widget-view+json": {
       "model_id": "eccfa8d86619431a94a0bbb590c9322f",
       "version_major": 2,
       "version_minor": 0
      },
      "text/plain": [
       "HBox(children=(IntProgress(value=0, max=14922), HTML(value='')))"
      ]
     },
     "metadata": {},
     "output_type": "display_data"
    },
    {
     "name": "stdout",
     "output_type": "stream",
     "text": [
      "\n"
     ]
    }
   ],
   "source": [
    "import os\n",
    "from joblib import Parallel, delayed\n",
    "from tqdm import tqdm_notebook\n",
    "\n",
    "\n",
    "for case in cases:\n",
    "    print(\"Processing simulation folder {}\".format(case))\n",
    "    source = source_base + \"/\" + case + \"/\" + plic_source\n",
    "    iterations = get_iterations(source)\n",
    "    target = target_base + \"/\" + case + \"/\" + plic_target\n",
    "    if not os.path.exists(target):\n",
    "        os.makedirs(target)\n",
    "    Parallel(n_jobs=4)(delayed(process_shape)(source, target, it, shape_2D=True) for it in tqdm_notebook(iterations))"
   ]
  },
  {
   "cell_type": "code",
   "execution_count": null,
   "metadata": {},
   "outputs": [],
   "source": []
  },
  {
   "cell_type": "code",
   "execution_count": null,
   "metadata": {},
   "outputs": [],
   "source": []
  }
 ],
 "metadata": {
  "kernelspec": {
   "display_name": "Python 3",
   "language": "python",
   "name": "python3"
  },
  "language_info": {
   "codemirror_mode": {
    "name": "ipython",
    "version": 3
   },
   "file_extension": ".py",
   "mimetype": "text/x-python",
   "name": "python",
   "nbconvert_exporter": "python",
   "pygments_lexer": "ipython3",
   "version": "3.6.8"
  }
 },
 "nbformat": 4,
 "nbformat_minor": 2
}
